{
  "nbformat": 4,
  "nbformat_minor": 0,
  "metadata": {
    "colab": {
      "provenance": []
    },
    "kernelspec": {
      "name": "python3",
      "display_name": "Python 3"
    },
    "language_info": {
      "name": "python"
    }
  },
  "cells": [
    {
      "cell_type": "code",
      "source": [
        "from google.colab import drive\n",
        "drive.mount('/content/drive', force_remount= True)"
      ],
      "metadata": {
        "colab": {
          "base_uri": "https://localhost:8080/"
        },
        "id": "gdegYR_CyXvG",
        "outputId": "96a11499-150a-4a86-aa39-547b7d750961"
      },
      "execution_count": 2,
      "outputs": [
        {
          "output_type": "stream",
          "name": "stdout",
          "text": [
            "Mounted at /content/drive\n"
          ]
        }
      ]
    },
    {
      "cell_type": "code",
      "source": [
        "import pandas as pd\n",
        "\n",
        "# Load dataset\n",
        "dataset = pd.read_csv('/content/drive/My Drive/Total_Combine_Dataset1.csv')\n",
        "\n",
        "# Display the first few rows of the dataset (optional for understanding)\n",
        "print(dataset.head())\n",
        "\n",
        "# Select features and target\n",
        "features = dataset.drop(columns=['DateTime', 'City', 'GHI'])  # Removing unnecessary columns\n",
        "target = dataset['GHI']  # The target variable is GHI (Global Horizontal Irradiance)\n"
      ],
      "metadata": {
        "colab": {
          "base_uri": "https://localhost:8080/"
        },
        "id": "MN_5OnBizqGg",
        "outputId": "fbdab2aa-f31b-4c0c-e2ab-3f712292b556"
      },
      "execution_count": 3,
      "outputs": [
        {
          "output_type": "stream",
          "name": "stdout",
          "text": [
            "        DateTime       City  Temperature  DHI  DNI  Surface Albedo  \\\n",
            "0  1/1/2019 0:00  Bandarban     0.286885  0.0  0.0        0.166667   \n",
            "1  1/1/2019 1:00  Bandarban     0.274590  0.0  0.0        0.166667   \n",
            "2  1/1/2019 2:00  Bandarban     0.262295  0.0  0.0        0.166667   \n",
            "3  1/1/2019 3:00  Bandarban     0.258197  0.0  0.0        0.166667   \n",
            "4  1/1/2019 4:00  Bandarban     0.254098  0.0  0.0        0.166667   \n",
            "\n",
            "   Cloud Type  GHI  \n",
            "0           3  0.0  \n",
            "1           3  0.0  \n",
            "2           1  0.0  \n",
            "3           3  0.0  \n",
            "4           3  0.0  \n"
          ]
        }
      ]
    },
    {
      "cell_type": "markdown",
      "source": [
        "#Split the data\n"
      ],
      "metadata": {
        "id": "uGuJzTX40SJ3"
      }
    },
    {
      "cell_type": "code",
      "source": [
        "from sklearn.model_selection import train_test_split\n",
        "\n",
        "# Split data: 70% training, 15% validation, 15% testing\n",
        "X_train, X_temp, y_train, y_temp = train_test_split(features, target, test_size=0.3, random_state=42)\n",
        "X_val, X_test, y_val, y_test = train_test_split(X_temp, y_temp, test_size=0.5, random_state=42)\n",
        "\n",
        "# Display split sizes\n",
        "print(f\"Training size: {len(X_train)}, Validation size: {len(X_val)}, Testing size: {len(X_test)}\")\n"
      ],
      "metadata": {
        "colab": {
          "base_uri": "https://localhost:8080/"
        },
        "id": "sULQ_Xu-0Wx7",
        "outputId": "b106dee7-2339-4918-ee86-975aeb50dc0b"
      },
      "execution_count": 4,
      "outputs": [
        {
          "output_type": "stream",
          "name": "stdout",
          "text": [
            "Training size: 564862, Validation size: 121042, Testing size: 121043\n"
          ]
        }
      ]
    },
    {
      "cell_type": "markdown",
      "source": [
        "#Train and Evaluate Models"
      ],
      "metadata": {
        "id": "gPl30mT50k7x"
      }
    },
    {
      "cell_type": "code",
      "source": [
        "from sklearn.tree import DecisionTreeRegressor\n",
        "from sklearn.linear_model import LinearRegression\n",
        "from sklearn.ensemble import RandomForestRegressor, GradientBoostingRegressor\n",
        "from xgboost import XGBRegressor\n",
        "\n",
        "# Initialize models\n",
        "models = {\n",
        "    \"Linear Regression\": LinearRegression(),\n",
        "    \"Random Forest\": RandomForestRegressor(n_estimators=10, max_depth=5, random_state=42),\n",
        "    \"Gradient Boosting\": GradientBoostingRegressor(n_estimators=10, max_depth=3, random_state=42),\n",
        "    \"Decision Tree\": DecisionTreeRegressor(max_depth=5, random_state=42),\n",
        "    \"XGBoost\": XGBRegressor(n_estimators=10, max_depth=5, random_state=42)\n",
        "}\n"
      ],
      "metadata": {
        "id": "ORyd1i3P0mgD"
      },
      "execution_count": 5,
      "outputs": []
    },
    {
      "cell_type": "code",
      "source": [
        "from sklearn.metrics import mean_squared_error, mean_absolute_error, r2_score\n",
        "\n",
        "# Dictionary to store performance metrics\n",
        "performance = {}\n",
        "\n",
        "# Train and evaluate each model\n",
        "for name, model in models.items():\n",
        "    model.fit(X_train, y_train)\n",
        "    y_pred = model.predict(X_val)\n",
        "    performance[name] = {\n",
        "        \"RMSE\": mean_squared_error(y_val, y_pred) ** 0.5,\n",
        "        \"MAE\": mean_absolute_error(y_val, y_pred),\n",
        "        \"R²\": r2_score(y_val, y_pred)\n",
        "    }\n",
        "\n",
        "# Display results\n",
        "for model_name, metrics in performance.items():\n",
        "    print(f\"{model_name}: RMSE={metrics['RMSE']}, MAE={metrics['MAE']}, R²={metrics['R²']}\")\n"
      ],
      "metadata": {
        "colab": {
          "base_uri": "https://localhost:8080/"
        },
        "id": "vS3q26DM0xgg",
        "outputId": "fb78c5ce-8645-4d21-c1ce-f283f389e6ed"
      },
      "execution_count": 6,
      "outputs": [
        {
          "output_type": "stream",
          "name": "stdout",
          "text": [
            "Linear Regression: RMSE=0.052962378734509805, MAE=0.03417097890003041, R²=0.9658305576231774\n",
            "Random Forest: RMSE=0.04553061324008795, MAE=0.022455196796623726, R²=0.9747471775249861\n",
            "Gradient Boosting: RMSE=0.11589348311372645, MAE=0.09072121194121933, R²=0.8363858135289786\n",
            "Decision Tree: RMSE=0.04754395052383291, MAE=0.023502739773477728, R²=0.9724644689428071\n",
            "XGBoost: RMSE=0.020392797935696563, MAE=0.01226083375447935, R²=0.9949341006349843\n"
          ]
        }
      ]
    },
    {
      "cell_type": "markdown",
      "source": [
        "#Identify best model\n"
      ],
      "metadata": {
        "id": "VhDWsLkx2dUc"
      }
    },
    {
      "cell_type": "code",
      "source": [
        "# Identify the best-performing model\n",
        "best_model = max(performance, key=lambda x: performance[x]['R²'])\n",
        "print(f\"Best model: {best_model}\")\n"
      ],
      "metadata": {
        "colab": {
          "base_uri": "https://localhost:8080/"
        },
        "id": "akRLSHj72c62",
        "outputId": "de09386d-af11-4eec-b3e9-854cb03a7e77"
      },
      "execution_count": 7,
      "outputs": [
        {
          "output_type": "stream",
          "name": "stdout",
          "text": [
            "Best model: XGBoost\n"
          ]
        }
      ]
    }
  ]
}